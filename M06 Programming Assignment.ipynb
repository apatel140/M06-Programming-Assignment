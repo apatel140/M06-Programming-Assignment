{
 "cells": [
  {
   "cell_type": "code",
   "execution_count": 3,
   "id": "dc653cf4",
   "metadata": {},
   "outputs": [],
   "source": [
    "import datetime\n",
    "today = datetime.date.today()\n",
    "file_ptr = open('today.txt', 'w')\n",
    "file_ptr.write(str(today))\n",
    "file_ptr.close()"
   ]
  },
  {
   "cell_type": "code",
   "execution_count": 5,
   "id": "710be105",
   "metadata": {},
   "outputs": [],
   "source": [
    "file_ptr = open('today.txt', 'r')\n",
    "today_date = file_ptr.read()\n",
    "file_ptr.close()"
   ]
  },
  {
   "cell_type": "code",
   "execution_count": 6,
   "id": "25ad1810",
   "metadata": {},
   "outputs": [
    {
     "name": "stdout",
     "output_type": "stream",
     "text": [
      "Today is 2023-07-12\n"
     ]
    }
   ],
   "source": [
    "today = datetime.datetime.strptime(today_date, '%Y-%m-%d').date()\n",
    "print('Today is', today)\n"
   ]
  },
  {
   "cell_type": "code",
   "execution_count": 7,
   "id": "bacdda79",
   "metadata": {},
   "outputs": [
    {
     "name": "stdout",
     "output_type": "stream",
     "text": [
      "Today's date and time is 2023-07-12 12:07:34.502828\n",
      "Today's date and time is 2023-07-12 12:07:35.488453\n",
      "Today's date and time is 2023-07-12 12:07:36.423225\n",
      "Completed\n"
     ]
    }
   ],
   "source": [
    "import multiprocessing\n",
    "from datetime import datetime\n",
    "import time\n",
    "import random\n",
    "\n",
    "\n",
    "def print_time():\n",
    "    now = datetime.now()\n",
    "    print(\"Today's date and time is {}\".format(now))\n",
    "    time.sleep(random.random())\n",
    "\n",
    "\n",
    "if __name__ == '__main__':\n",
    "    proc1 = multiprocessing.Process(target=print_time())\n",
    "    proc2 = multiprocessing.Process(target=print_time())\n",
    "    proc3 = multiprocessing.Process(target=print_time())\n",
    "    proc1.start()\n",
    "    proc2.start()\n",
    "    proc3.start()\n",
    "    proc1.join()\n",
    "    proc2.join()\n",
    "    proc3.join()\n",
    "\n",
    "    print('Completed')"
   ]
  },
  {
   "cell_type": "code",
   "execution_count": null,
   "id": "a2760380",
   "metadata": {},
   "outputs": [],
   "source": []
  }
 ],
 "metadata": {
  "kernelspec": {
   "display_name": "Python 3 (ipykernel)",
   "language": "python",
   "name": "python3"
  },
  "language_info": {
   "codemirror_mode": {
    "name": "ipython",
    "version": 3
   },
   "file_extension": ".py",
   "mimetype": "text/x-python",
   "name": "python",
   "nbconvert_exporter": "python",
   "pygments_lexer": "ipython3",
   "version": "3.10.9"
  }
 },
 "nbformat": 4,
 "nbformat_minor": 5
}
